{
 "cells": [
  {
   "cell_type": "markdown",
   "metadata": {},
   "source": [
    "# BBC News Classification Project\n",
    "\n",
    "The goal of this notebook is to classify BBC news articles into one of five categories: business, entertainment, politics, sport, and tech. The dataset is from [Kaggle](https://www.kaggle.com/c/learn-ai-bbc/data).\n",
    "\n",
    "We are going to use a supervised learning model and compare it to a Matrix Factorization model."
   ]
  },
  {
   "cell_type": "markdown",
   "metadata": {},
   "source": [
    "## Setup"
   ]
  },
  {
   "cell_type": "code",
   "execution_count": 26,
   "metadata": {},
   "outputs": [],
   "source": [
    "import os\n",
    "import zipfile\n",
    "import numpy as np\n",
    "import pandas as pd\n",
    "import matplotlib.pyplot as plt\n",
    "import seaborn as sns\n",
    "import nltk\n",
    "import re"
   ]
  },
  {
   "cell_type": "code",
   "execution_count": 17,
   "metadata": {},
   "outputs": [],
   "source": [
    "sns.set_style('dark')\n",
    "sns.set_palette('muted', color_codes=True)  \n",
    "np.random.seed(42)\n"
   ]
  },
  {
   "cell_type": "code",
   "execution_count": 18,
   "metadata": {},
   "outputs": [
    {
     "name": "stdout",
     "output_type": "stream",
     "text": [
      "learn-ai-bbc.zip: Skipping, found more recently modified local copy (use --force to force download)\n"
     ]
    }
   ],
   "source": [
    "os.environ['KAGGLE_CONFIG_DIR'] = '.kaggle\\kaggle.json'\n",
    "!kaggle competitions download -c learn-ai-bbc -p data \n",
    "with zipfile.ZipFile('data\\learn-ai-bbc.zip', 'r') as zip_ref:\n",
    "    zip_ref.extractall('data')"
   ]
  },
  {
   "cell_type": "markdown",
   "metadata": {},
   "source": [
    "## EDA"
   ]
  },
  {
   "cell_type": "markdown",
   "metadata": {},
   "source": [
    "The data consist of 1490 rows, each row representing a news article. There are 3 columns: ArticleId, Text and Category."
   ]
  },
  {
   "cell_type": "code",
   "execution_count": 19,
   "metadata": {},
   "outputs": [
    {
     "name": "stdout",
     "output_type": "stream",
     "text": [
      "<class 'pandas.core.frame.DataFrame'>\n",
      "RangeIndex: 1490 entries, 0 to 1489\n",
      "Data columns (total 3 columns):\n",
      " #   Column     Non-Null Count  Dtype \n",
      "---  ------     --------------  ----- \n",
      " 0   ArticleId  1490 non-null   int64 \n",
      " 1   Text       1490 non-null   object\n",
      " 2   Category   1490 non-null   object\n",
      "dtypes: int64(1), object(2)\n",
      "memory usage: 35.0+ KB\n"
     ]
    }
   ],
   "source": [
    "df_train_news = pd.read_csv('data\\BBC News Train.csv')\n",
    "df_train_news.info()"
   ]
  },
  {
   "cell_type": "code",
   "execution_count": 20,
   "metadata": {},
   "outputs": [
    {
     "data": {
      "text/html": [
       "<div>\n",
       "<style scoped>\n",
       "    .dataframe tbody tr th:only-of-type {\n",
       "        vertical-align: middle;\n",
       "    }\n",
       "\n",
       "    .dataframe tbody tr th {\n",
       "        vertical-align: top;\n",
       "    }\n",
       "\n",
       "    .dataframe thead th {\n",
       "        text-align: right;\n",
       "    }\n",
       "</style>\n",
       "<table border=\"1\" class=\"dataframe\">\n",
       "  <thead>\n",
       "    <tr style=\"text-align: right;\">\n",
       "      <th></th>\n",
       "      <th>ArticleId</th>\n",
       "      <th>Text</th>\n",
       "      <th>Category</th>\n",
       "    </tr>\n",
       "  </thead>\n",
       "  <tbody>\n",
       "    <tr>\n",
       "      <th>941</th>\n",
       "      <td>2160</td>\n",
       "      <td>wal-mart is sued over rude lyrics the parents ...</td>\n",
       "      <td>entertainment</td>\n",
       "    </tr>\n",
       "    <tr>\n",
       "      <th>297</th>\n",
       "      <td>1360</td>\n",
       "      <td>howard taunts blair over splits tony blair s f...</td>\n",
       "      <td>politics</td>\n",
       "    </tr>\n",
       "    <tr>\n",
       "      <th>271</th>\n",
       "      <td>302</td>\n",
       "      <td>fox attacks blair s tory  lies  tony blair lie...</td>\n",
       "      <td>politics</td>\n",
       "    </tr>\n",
       "    <tr>\n",
       "      <th>774</th>\n",
       "      <td>864</td>\n",
       "      <td>online commons to spark debate online communit...</td>\n",
       "      <td>tech</td>\n",
       "    </tr>\n",
       "    <tr>\n",
       "      <th>420</th>\n",
       "      <td>2184</td>\n",
       "      <td>piero gives rugby perspective bbc sport unveil...</td>\n",
       "      <td>tech</td>\n",
       "    </tr>\n",
       "    <tr>\n",
       "      <th>1090</th>\n",
       "      <td>1322</td>\n",
       "      <td>us retail sales surge in december us retail sa...</td>\n",
       "      <td>business</td>\n",
       "    </tr>\n",
       "    <tr>\n",
       "      <th>427</th>\n",
       "      <td>930</td>\n",
       "      <td>casual gaming to  take off  games aimed at  ca...</td>\n",
       "      <td>tech</td>\n",
       "    </tr>\n",
       "    <tr>\n",
       "      <th>1393</th>\n",
       "      <td>1314</td>\n",
       "      <td>ring of fire hit co-writer dies merle kilgore ...</td>\n",
       "      <td>entertainment</td>\n",
       "    </tr>\n",
       "    <tr>\n",
       "      <th>231</th>\n",
       "      <td>140</td>\n",
       "      <td>rich grab half colombia poor fund half of the ...</td>\n",
       "      <td>business</td>\n",
       "    </tr>\n",
       "    <tr>\n",
       "      <th>1489</th>\n",
       "      <td>538</td>\n",
       "      <td>santy worm makes unwelcome visit thousands of ...</td>\n",
       "      <td>tech</td>\n",
       "    </tr>\n",
       "  </tbody>\n",
       "</table>\n",
       "</div>"
      ],
      "text/plain": [
       "      ArticleId                                               Text  \\\n",
       "941        2160  wal-mart is sued over rude lyrics the parents ...   \n",
       "297        1360  howard taunts blair over splits tony blair s f...   \n",
       "271         302  fox attacks blair s tory  lies  tony blair lie...   \n",
       "774         864  online commons to spark debate online communit...   \n",
       "420        2184  piero gives rugby perspective bbc sport unveil...   \n",
       "1090       1322  us retail sales surge in december us retail sa...   \n",
       "427         930  casual gaming to  take off  games aimed at  ca...   \n",
       "1393       1314  ring of fire hit co-writer dies merle kilgore ...   \n",
       "231         140  rich grab half colombia poor fund half of the ...   \n",
       "1489        538  santy worm makes unwelcome visit thousands of ...   \n",
       "\n",
       "           Category  \n",
       "941   entertainment  \n",
       "297        politics  \n",
       "271        politics  \n",
       "774            tech  \n",
       "420            tech  \n",
       "1090       business  \n",
       "427            tech  \n",
       "1393  entertainment  \n",
       "231        business  \n",
       "1489           tech  "
      ]
     },
     "execution_count": 20,
     "metadata": {},
     "output_type": "execute_result"
    }
   ],
   "source": [
    "df_train_news.sample(10)"
   ]
  },
  {
   "cell_type": "markdown",
   "metadata": {},
   "source": [
    "We are going to change the index to ArticleId and then look at the distribution of the categories."
   ]
  },
  {
   "cell_type": "code",
   "execution_count": 21,
   "metadata": {},
   "outputs": [],
   "source": [
    "df_train_news.set_index('ArticleId', inplace=True)\n",
    "df_train_news['Category'] = df_train_news['Category'].str.capitalize()"
   ]
  },
  {
   "cell_type": "code",
   "execution_count": 22,
   "metadata": {},
   "outputs": [
    {
     "name": "stderr",
     "output_type": "stream",
     "text": [
      "e:\\Documents\\BBC News-Classification\\venv\\lib\\site-packages\\seaborn\\_oldcore.py:1498: FutureWarning: is_categorical_dtype is deprecated and will be removed in a future version. Use isinstance(dtype, CategoricalDtype) instead\n",
      "  if pd.api.types.is_categorical_dtype(vector):\n",
      "e:\\Documents\\BBC News-Classification\\venv\\lib\\site-packages\\seaborn\\_oldcore.py:1498: FutureWarning: is_categorical_dtype is deprecated and will be removed in a future version. Use isinstance(dtype, CategoricalDtype) instead\n",
      "  if pd.api.types.is_categorical_dtype(vector):\n",
      "e:\\Documents\\BBC News-Classification\\venv\\lib\\site-packages\\seaborn\\_oldcore.py:1498: FutureWarning: is_categorical_dtype is deprecated and will be removed in a future version. Use isinstance(dtype, CategoricalDtype) instead\n",
      "  if pd.api.types.is_categorical_dtype(vector):\n"
     ]
    },
    {
     "data": {
      "text/plain": [
       "(0.0, 400.0)"
      ]
     },
     "execution_count": 22,
     "metadata": {},
     "output_type": "execute_result"
    },
    {
     "data": {
      "image/png": "[encoded data removed]",
      "text/plain": [
       "<Figure size 640x480 with 1 Axes>"
      ]
     },
     "metadata": {},
     "output_type": "display_data"
    }
   ],
   "source": [
    "data = df_train_news['Category'].value_counts()\n",
    "colors = ['grey' if (x < max(data)) else 'red' for x in data.values]\n",
    "fig = sns.barplot(x=data.index, y=data.values, palette=colors)\n",
    "\n",
    "sns.despine()\n",
    "plt.title('BBC News Categories Distribution', fontsize=14)\n",
    "plt.xlabel('')\n",
    "plt.ylabel('')\n",
    "plt.tick_params(left=False, bottom=False, labelleft=False, labelbottom=True)       \n",
    "patches = fig.patches\n",
    "for patch in patches:\n",
    "    height = patch.get_height()\n",
    "    width = patch.get_width()\n",
    "    x = patch.get_x()\n",
    "    fig.text(x=x+width/2, y=height+5,s='{:.0f}'.format(height), ha='center')\n",
    "plt.ylim(0,400)"
   ]
  },
  {
   "cell_type": "markdown",
   "metadata": {},
   "source": [
    "As we can see, the categories are somewhat evenly distributed.\n",
    "\n",
    "Let's take a look at a random article."
   ]
  },
  {
   "cell_type": "code",
   "execution_count": 23,
   "metadata": {},
   "outputs": [
    {
     "data": {
      "text/html": [
       "<div>\n",
       "<style scoped>\n",
       "    .dataframe tbody tr th:only-of-type {\n",
       "        vertical-align: middle;\n",
       "    }\n",
       "\n",
       "    .dataframe tbody tr th {\n",
       "        vertical-align: top;\n",
       "    }\n",
       "\n",
       "    .dataframe thead th {\n",
       "        text-align: right;\n",
       "    }\n",
       "</style>\n",
       "<table border=\"1\" class=\"dataframe\">\n",
       "  <thead>\n",
       "    <tr style=\"text-align: right;\">\n",
       "      <th></th>\n",
       "      <th>Text</th>\n",
       "      <th>Category</th>\n",
       "    </tr>\n",
       "    <tr>\n",
       "      <th>ArticleId</th>\n",
       "      <th></th>\n",
       "      <th></th>\n",
       "    </tr>\n",
       "  </thead>\n",
       "  <tbody>\n",
       "    <tr>\n",
       "      <th>2160</th>\n",
       "      <td>wal-mart is sued over rude lyrics the parents ...</td>\n",
       "      <td>Entertainment</td>\n",
       "    </tr>\n",
       "  </tbody>\n",
       "</table>\n",
       "</div>"
      ],
      "text/plain": [
       "                                                        Text       Category\n",
       "ArticleId                                                                  \n",
       "2160       wal-mart is sued over rude lyrics the parents ...  Entertainment"
      ]
     },
     "execution_count": 23,
     "metadata": {},
     "output_type": "execute_result"
    }
   ],
   "source": [
    "df_train_news.sample(1, random_state=42)"
   ]
  },
  {
   "cell_type": "code",
   "execution_count": 31,
   "metadata": {},
   "outputs": [
    {
     "data": {
      "text/plain": [
       "'wal mart is sued over rude lyrics the parents of a    year old girl are suing us supermarket giant wal mart over a cd by rock group evanescence that contains swear words  the lawsuit filed in washington county alleges wal mart deceived customers by not putting warning labels on the cover  trevin skeens alleges wal mart knew of the offending word because it had censored it on its music sales website  wal mart said it was investigating the claims but had no plans to pull the cd  wal mart has a policy of not stocking cds which carry parental advisory labels  mr skeens said he bought the anywhere but home cd for his daughter and was shocked to hear the swearing when it was played in their car   i don t want any other families to get this expecting it to be clean  it needs to be removed from the shelves to prevent other children from hearing it  said mr skeens of brownsville  the lawsuit seeks to force wal mart to censor the music or remove it from its stores in maryland  it also seeks damages of up to                   for every customer who bought the cd at maryland wal marts and also naming record label wind up records and distributor bmg entertainment in the legal action  while wal mart sets high standards it would not be possible to eliminate every image word or topic that an individual might find objectionable  wal mart spokesman guy whitcomb told the herald mail of hagerstown '"
      ]
     },
     "execution_count": 31,
     "metadata": {},
     "output_type": "execute_result"
    }
   ],
   "source": [
    "df_train_news['Text'][2160]"
   ]
  },
  {
   "cell_type": "markdown",
   "metadata": {},
   "source": [
    "There is some cleaning to do, for example removing punctuation, numbers, etc.\n",
    "\n",
    "Now, since the input data is text, we first need to clean it up for NLP, we are going to follow some steps recommended by [this article](https://www.analyticsvidhya.com/blog/2021/05/natural-language-processing-step-by-step-guide/)."
   ]
  },
  {
   "cell_type": "code",
   "execution_count": 29,
   "metadata": {},
   "outputs": [],
   "source": [
    "df_train_news['Text'] = df_train_news['Text'].apply(lambda x: re.sub(\"[^a-zA-Z]\", ' ',x))"
   ]
  },
  {
   "cell_type": "markdown",
   "metadata": {},
   "source": [
    "First we are going to remove stopwords, which are words that in general don't add much meaning to the text, such as \"the\", \"a\", \"an\", etc."
   ]
  },
  {
   "cell_type": "code",
   "execution_count": 32,
   "metadata": {},
   "outputs": [
    {
     "name": "stderr",
     "output_type": "stream",
     "text": [
      "[nltk_data] Downloading package stopwords to\n",
      "[nltk_data]     C:\\Users\\cozie\\AppData\\Roaming\\nltk_data...\n",
      "[nltk_data]   Unzipping corpora\\stopwords.zip.\n"
     ]
    }
   ],
   "source": [
    "nltk.download('stopwords')\n",
    "stopwords = nltk.corpus.stopwords.words('english')"
   ]
  }
 ],
 "metadata": {
  "kernelspec": {
   "display_name": "venv",
   "language": "python",
   "name": "python3"
  },
  "language_info": {
   "codemirror_mode": {
    "name": "ipython",
    "version": 3
   },
   "file_extension": ".py",
   "mimetype": "text/x-python",
   "name": "python",
   "nbconvert_exporter": "python",
   "pygments_lexer": "ipython3",
   "version": "3.9.13"
  },
  "orig_nbformat": 4
 },
 "nbformat": 4,
 "nbformat_minor": 2
}

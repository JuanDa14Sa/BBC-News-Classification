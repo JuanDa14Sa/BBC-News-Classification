{
 "cells": [
  {
   "cell_type": "markdown",
   "metadata": {},
   "source": [
    "# BBC News Classification Project\n",
    "\n",
    "The goal of this notebook is to classify BBC news articles into one of five categories: business, entertainment, politics, sport, and tech. The dataset is from [Kaggle](https://www.kaggle.com/c/learn-ai-bbc/data).\n",
    "\n",
    "We are going to use a supervised learning model and compare it to an unsupervised learning model(Matrix Factorization).\n",
    "This notebook is the final deliverable for the course [Unsupervised Algorithms in Machine Learning](https://www.coursera.org/learn/unsupervised-algorithms-in-machine-learning)"
   ]
  },
  {
   "cell_type": "markdown",
   "metadata": {},
   "source": [
    "## Setup"
   ]
  },
  {
   "cell_type": "code",
   "execution_count": 199,
   "metadata": {},
   "outputs": [
    {
     "name": "stderr",
     "output_type": "stream",
     "text": [
      "[nltk_data] Downloading package punkt to\n",
      "[nltk_data]     C:\\Users\\cozie\\AppData\\Roaming\\nltk_data...\n",
      "[nltk_data]   Package punkt is already up-to-date!\n",
      "[nltk_data] Downloading package stopwords to\n",
      "[nltk_data]     C:\\Users\\cozie\\AppData\\Roaming\\nltk_data...\n",
      "[nltk_data]   Package stopwords is already up-to-date!\n",
      "[nltk_data] Downloading package wordnet to\n",
      "[nltk_data]     C:\\Users\\cozie\\AppData\\Roaming\\nltk_data...\n",
      "[nltk_data]   Package wordnet is already up-to-date!\n"
     ]
    },
    {
     "data": {
      "text/plain": [
       "True"
      ]
     },
     "execution_count": 199,
     "metadata": {},
     "output_type": "execute_result"
    }
   ],
   "source": [
    "import os\n",
    "import zipfile\n",
    "import numpy as np\n",
    "import pandas as pd\n",
    "import matplotlib.pyplot as plt\n",
    "import seaborn as sns\n",
    "import nltk\n",
    "import re\n",
    "from sklearn.model_selection import train_test_split            \n",
    "from sklearn.feature_extraction.text import CountVectorizer, TfidfVectorizer \n",
    "from sklearn.metrics import accuracy_score, confusion_matrix, classification_report\n",
    "from sklearn.decomposition import NMF\n",
    "from itertools import permutations\n",
    "nltk.download('punkt')\n",
    "nltk.download('stopwords')\n",
    "nltk.download('wordnet')"
   ]
  },
  {
   "cell_type": "code",
   "execution_count": 200,
   "metadata": {},
   "outputs": [],
   "source": [
    "import warnings\n",
    "warnings.simplefilter(action='ignore', category=FutureWarning)"
   ]
  },
  {
   "cell_type": "code",
   "execution_count": 201,
   "metadata": {},
   "outputs": [],
   "source": [
    "sns.set_style('dark')\n",
    "sns.set_palette('muted', color_codes=True)  \n",
    "random_seed = 0\n",
    "np.random.seed(random_seed)"
   ]
  },
  {
   "cell_type": "code",
   "execution_count": 202,
   "metadata": {},
   "outputs": [
    {
     "name": "stdout",
     "output_type": "stream",
     "text": [
      "learn-ai-bbc.zip: Skipping, found more recently modified local copy (use --force to force download)\n"
     ]
    }
   ],
   "source": [
    "os.environ['KAGGLE_CONFIG_DIR'] = '.kaggle\\kaggle.json'\n",
    "!kaggle competitions download -c learn-ai-bbc -p data \n",
    "with zipfile.ZipFile('data\\learn-ai-bbc.zip', 'r') as zip_ref:\n",
    "    zip_ref.extractall('data')"
   ]
  },
  {
   "cell_type": "markdown",
   "metadata": {},
   "source": [
    "## EDA"
   ]
  },
  {
   "cell_type": "markdown",
   "metadata": {},
   "source": [
    "The data consist of 1490 rows, each row representing a news article. There are 3 columns: ArticleId, Text and Category."
   ]
  },
  {
   "cell_type": "code",
   "execution_count": 203,
   "metadata": {},
   "outputs": [
    {
     "name": "stdout",
     "output_type": "stream",
     "text": [
      "<class 'pandas.core.frame.DataFrame'>\n",
      "RangeIndex: 1490 entries, 0 to 1489\n",
      "Data columns (total 3 columns):\n",
      " #   Column     Non-Null Count  Dtype \n",
      "---  ------     --------------  ----- \n",
      " 0   ArticleId  1490 non-null   int64 \n",
      " 1   Text       1490 non-null   object\n",
      " 2   Category   1490 non-null   object\n",
      "dtypes: int64(1), object(2)\n",
      "memory usage: 35.0+ KB\n"
     ]
    }
   ],
   "source": [
    "df_train_news = pd.read_csv('data\\BBC News Train.csv')\n",
    "df_train_news.info()"
   ]
  },
  {
   "cell_type": "code",
   "execution_count": 204,
   "metadata": {},
   "outputs": [
    {
     "data": {
      "text/html": [
       "<div>\n",
       "<style scoped>\n",
       "    .dataframe tbody tr th:only-of-type {\n",
       "        vertical-align: middle;\n",
       "    }\n",
       "\n",
       "    .dataframe tbody tr th {\n",
       "        vertical-align: top;\n",
       "    }\n",
       "\n",
       "    .dataframe thead th {\n",
       "        text-align: right;\n",
       "    }\n",
       "</style>\n",
       "<table border=\"1\" class=\"dataframe\">\n",
       "  <thead>\n",
       "    <tr style=\"text-align: right;\">\n",
       "      <th></th>\n",
       "      <th>ArticleId</th>\n",
       "      <th>Text</th>\n",
       "      <th>Category</th>\n",
       "    </tr>\n",
       "  </thead>\n",
       "  <tbody>\n",
       "    <tr>\n",
       "      <th>9</th>\n",
       "      <td>1866</td>\n",
       "      <td>fockers fuel festive film chart comedy meet th...</td>\n",
       "      <td>entertainment</td>\n",
       "    </tr>\n",
       "    <tr>\n",
       "      <th>354</th>\n",
       "      <td>1349</td>\n",
       "      <td>tory candidate quits over remark a conservativ...</td>\n",
       "      <td>politics</td>\n",
       "    </tr>\n",
       "    <tr>\n",
       "      <th>1227</th>\n",
       "      <td>1572</td>\n",
       "      <td>bath faced with tindall ultimatum mike tindall...</td>\n",
       "      <td>sport</td>\n",
       "    </tr>\n",
       "    <tr>\n",
       "      <th>907</th>\n",
       "      <td>1155</td>\n",
       "      <td>chancellor rallies labour voters gordon brown ...</td>\n",
       "      <td>politics</td>\n",
       "    </tr>\n",
       "    <tr>\n",
       "      <th>575</th>\n",
       "      <td>307</td>\n",
       "      <td>young debut cut short by ginepri fifteen-year-...</td>\n",
       "      <td>sport</td>\n",
       "    </tr>\n",
       "    <tr>\n",
       "      <th>302</th>\n",
       "      <td>435</td>\n",
       "      <td>s korean lender faces liquidation creditors of...</td>\n",
       "      <td>business</td>\n",
       "    </tr>\n",
       "    <tr>\n",
       "      <th>703</th>\n",
       "      <td>756</td>\n",
       "      <td>us to rule on yukos refuge call yukos has said...</td>\n",
       "      <td>business</td>\n",
       "    </tr>\n",
       "    <tr>\n",
       "      <th>298</th>\n",
       "      <td>25</td>\n",
       "      <td>mobile audio enters new dimension as mobile ph...</td>\n",
       "      <td>tech</td>\n",
       "    </tr>\n",
       "    <tr>\n",
       "      <th>1136</th>\n",
       "      <td>1611</td>\n",
       "      <td>actress roberts takes spider role actress juli...</td>\n",
       "      <td>entertainment</td>\n",
       "    </tr>\n",
       "    <tr>\n",
       "      <th>1447</th>\n",
       "      <td>1730</td>\n",
       "      <td>us prepares for hybrid onslaught sales of hybr...</td>\n",
       "      <td>business</td>\n",
       "    </tr>\n",
       "  </tbody>\n",
       "</table>\n",
       "</div>"
      ],
      "text/plain": [
       "      ArticleId                                               Text  \\\n",
       "9          1866  fockers fuel festive film chart comedy meet th...   \n",
       "354        1349  tory candidate quits over remark a conservativ...   \n",
       "1227       1572  bath faced with tindall ultimatum mike tindall...   \n",
       "907        1155  chancellor rallies labour voters gordon brown ...   \n",
       "575         307  young debut cut short by ginepri fifteen-year-...   \n",
       "302         435  s korean lender faces liquidation creditors of...   \n",
       "703         756  us to rule on yukos refuge call yukos has said...   \n",
       "298          25  mobile audio enters new dimension as mobile ph...   \n",
       "1136       1611  actress roberts takes spider role actress juli...   \n",
       "1447       1730  us prepares for hybrid onslaught sales of hybr...   \n",
       "\n",
       "           Category  \n",
       "9     entertainment  \n",
       "354        politics  \n",
       "1227          sport  \n",
       "907        politics  \n",
       "575           sport  \n",
       "302        business  \n",
       "703        business  \n",
       "298            tech  \n",
       "1136  entertainment  \n",
       "1447       business  "
      ]
     },
     "execution_count": 204,
     "metadata": {},
     "output_type": "execute_result"
    }
   ],
   "source": [
    "df_train_news.sample(10)"
   ]
  },
  {
   "cell_type": "markdown",
   "metadata": {},
   "source": [
    "We are going to change the index to ArticleId and then look for duplicated articles."
   ]
  },
  {
   "cell_type": "code",
   "execution_count": 205,
   "metadata": {},
   "outputs": [],
   "source": [
    "df_train_news.set_index('ArticleId', inplace=True)\n",
    "df_train_news['Category'] = df_train_news['Category'].str.capitalize()"
   ]
  },
  {
   "cell_type": "code",
   "execution_count": 206,
   "metadata": {},
   "outputs": [
    {
     "data": {
      "text/html": [
       "<div>\n",
       "<style scoped>\n",
       "    .dataframe tbody tr th:only-of-type {\n",
       "        vertical-align: middle;\n",
       "    }\n",
       "\n",
       "    .dataframe tbody tr th {\n",
       "        vertical-align: top;\n",
       "    }\n",
       "\n",
       "    .dataframe thead th {\n",
       "        text-align: right;\n",
       "    }\n",
       "</style>\n",
       "<table border=\"1\" class=\"dataframe\">\n",
       "  <thead>\n",
       "    <tr style=\"text-align: right;\">\n",
       "      <th></th>\n",
       "      <th>Text</th>\n",
       "    </tr>\n",
       "    <tr>\n",
       "      <th>Category</th>\n",
       "      <th></th>\n",
       "    </tr>\n",
       "  </thead>\n",
       "  <tbody>\n",
       "    <tr>\n",
       "      <th>Business</th>\n",
       "      <td>1</td>\n",
       "    </tr>\n",
       "    <tr>\n",
       "      <th>Entertainment</th>\n",
       "      <td>10</td>\n",
       "    </tr>\n",
       "    <tr>\n",
       "      <th>Politics</th>\n",
       "      <td>8</td>\n",
       "    </tr>\n",
       "    <tr>\n",
       "      <th>Sport</th>\n",
       "      <td>4</td>\n",
       "    </tr>\n",
       "    <tr>\n",
       "      <th>Tech</th>\n",
       "      <td>27</td>\n",
       "    </tr>\n",
       "  </tbody>\n",
       "</table>\n",
       "</div>"
      ],
      "text/plain": [
       "               Text\n",
       "Category           \n",
       "Business          1\n",
       "Entertainment    10\n",
       "Politics          8\n",
       "Sport             4\n",
       "Tech             27"
      ]
     },
     "execution_count": 206,
     "metadata": {},
     "output_type": "execute_result"
    }
   ],
   "source": [
    "df_train_news[df_train_news.duplicated('Text')].groupby('Category').agg({'Text': 'count'})  "
   ]
  },
  {
   "cell_type": "markdown",
   "metadata": {},
   "source": [
    "There are 51 duplicated articles. We are going to drop them. "
   ]
  },
  {
   "cell_type": "code",
   "execution_count": 207,
   "metadata": {},
   "outputs": [],
   "source": [
    "df_train_news.drop_duplicates('Text', inplace=True) "
   ]
  },
  {
   "cell_type": "markdown",
   "metadata": {},
   "source": [
    "Let's analyze the distribution of the categories."
   ]
  },
  {
   "cell_type": "code",
   "execution_count": 208,
   "metadata": {},
   "outputs": [
    {
     "data": {
      "text/plain": [
       "(0.0, 400.0)"
      ]
     },
     "execution_count": 208,
     "metadata": {},
     "output_type": "execute_result"
    },
    {
     "data": {
      "image/png": "[encoded data removed]",
      "text/plain": [
       "<Figure size 640x480 with 1 Axes>"
      ]
     },
     "metadata": {},
     "output_type": "display_data"
    }
   ],
   "source": [
    "data = df_train_news['Category'].value_counts()\n",
    "colors = ['grey' if (x < max(data)) else 'red' for x in data.values]\n",
    "fig = sns.barplot(x=data.index, y=data.values, palette=colors)\n",
    "\n",
    "sns.despine()\n",
    "plt.title('BBC News Categories Distribution', fontsize=14)\n",
    "plt.xlabel('')\n",
    "plt.ylabel('')\n",
    "plt.tick_params(left=False, bottom=False, labelleft=False, labelbottom=True)       \n",
    "patches = fig.patches\n",
    "for patch in patches:\n",
    "    height = patch.get_height()\n",
    "    width = patch.get_width()\n",
    "    x = patch.get_x()\n",
    "    fig.text(x=x+width/2, y=height+5,s='{:.0f}'.format(height), ha='center')\n",
    "plt.ylim(0,400)"
   ]
  },
  {
   "cell_type": "markdown",
   "metadata": {},
   "source": [
    "As we can see, the categories are somewhat evenly distributed.\n",
    "\n",
    "Let's take a look at a random article."
   ]
  },
  {
   "cell_type": "code",
   "execution_count": 209,
   "metadata": {},
   "outputs": [
    {
     "data": {
      "text/html": [
       "<div>\n",
       "<style scoped>\n",
       "    .dataframe tbody tr th:only-of-type {\n",
       "        vertical-align: middle;\n",
       "    }\n",
       "\n",
       "    .dataframe tbody tr th {\n",
       "        vertical-align: top;\n",
       "    }\n",
       "\n",
       "    .dataframe thead th {\n",
       "        text-align: right;\n",
       "    }\n",
       "</style>\n",
       "<table border=\"1\" class=\"dataframe\">\n",
       "  <thead>\n",
       "    <tr style=\"text-align: right;\">\n",
       "      <th></th>\n",
       "      <th>Text</th>\n",
       "      <th>Category</th>\n",
       "    </tr>\n",
       "    <tr>\n",
       "      <th>ArticleId</th>\n",
       "      <th></th>\n",
       "      <th></th>\n",
       "    </tr>\n",
       "  </thead>\n",
       "  <tbody>\n",
       "    <tr>\n",
       "      <th>1066</th>\n",
       "      <td>bellamy under new fire newcastle boss graeme s...</td>\n",
       "      <td>Sport</td>\n",
       "    </tr>\n",
       "  </tbody>\n",
       "</table>\n",
       "</div>"
      ],
      "text/plain": [
       "                                                        Text Category\n",
       "ArticleId                                                            \n",
       "1066       bellamy under new fire newcastle boss graeme s...    Sport"
      ]
     },
     "execution_count": 209,
     "metadata": {},
     "output_type": "execute_result"
    }
   ],
   "source": [
    "df_train_news.sample(1, random_state=42)"
   ]
  },
  {
   "cell_type": "code",
   "execution_count": 210,
   "metadata": {},
   "outputs": [
    {
     "data": {
      "text/plain": [
       "'bellamy under new fire newcastle boss graeme souness has reopened his dispute with craig bellamy after claiming the welshman was  not good enough  for the magpies. bellamy left newcastle to join celtic on loan after a major row with souness. souness - who refused to refer to the 25-year-old by name - said bellamy did not score enough goals  the chap that s just gone has scored 9.3 goals a season in his time in senior football - half of those weren t even in the top flight   said souness.  that s not good enough for a striker at a club like this.  we need to have two strikers who are near 20 goals on a regular basis.   bellamy turned down a move to birmingham in favour of joining celtic after a disagreement about the welsh international playing out of position quickly escalated. earlier in the week  souness had said that he risked losing the confidence of the players and damaging his own reputation if he had not taken a hard line after bellamy accused him of lying.   there are certain things you can forgive and forget   said souness.  but if i d been seen to be weak in this case there was no future for me with the players in the dressing room or any job i have after newcastle.  he could then return to st james  park - and he says that he wants to. however  it would seem unlikely he will play for newcastle again as long as souness remains in charge.'"
      ]
     },
     "execution_count": 210,
     "metadata": {},
     "output_type": "execute_result"
    }
   ],
   "source": [
    "exmpl_index = 1066\n",
    "df_train_news.loc[exmpl_index, 'Text']"
   ]
  },
  {
   "cell_type": "markdown",
   "metadata": {},
   "source": [
    "There is some cleaning to do, for example removing punctuation, numbers, etc.\n",
    "\n",
    "Now, since the input data is text, we first need to clean it up for NLP, we are going to follow some steps recommended by [this article](https://www.analyticsvidhya.com/blog/2021/05/natural-language-processing-step-by-step-guide/)."
   ]
  },
  {
   "cell_type": "code",
   "execution_count": 211,
   "metadata": {},
   "outputs": [
    {
     "name": "stdout",
     "output_type": "stream",
     "text": [
      "bellamy under new fire newcastle boss graeme souness has reopened his dispute with craig bellamy after claiming the welshman was  not good enough  for the magpies  bellamy left newcastle to join celtic on loan after a major row with souness  souness   who refused to refer to the    year old by name   said bellamy did not score enough goals  the chap that s just gone has scored     goals a season in his time in senior football   half of those weren t even in the top flight   said souness   that s not good enough for a striker at a club like this   we need to have two strikers who are near    goals on a regular basis    bellamy turned down a move to birmingham in favour of joining celtic after a disagreement about the welsh international playing out of position quickly escalated  earlier in the week  souness had said that he risked losing the confidence of the players and damaging his own reputation if he had not taken a hard line after bellamy accused him of lying    there are certain things you can forgive and forget   said souness   but if i d been seen to be weak in this case there was no future for me with the players in the dressing room or any job i have after newcastle   he could then return to st james  park   and he says that he wants to  however  it would seem unlikely he will play for newcastle again as long as souness remains in charge \n"
     ]
    }
   ],
   "source": [
    "df_train_news['num_words_no_pre'] = df_train_news['Text'].apply(lambda x: len(x.split()))\n",
    "\n",
    "df_train_news['Text'] = df_train_news['Text'].apply(lambda x: re.sub(\"[^a-zA-Z]\", ' ',x))\n",
    "df_train_news['num_words_simple_pre'] = df_train_news['Text'].apply(lambda x: len(x.split()))\n",
    "print(df_train_news['Text'][exmpl_index])"
   ]
  },
  {
   "cell_type": "markdown",
   "metadata": {},
   "source": [
    "First we are going to tokenize the text, which means splitting it into words."
   ]
  },
  {
   "cell_type": "code",
   "execution_count": 212,
   "metadata": {},
   "outputs": [
    {
     "data": {
      "text/plain": [
       "['bellamy',\n",
       " 'under',\n",
       " 'new',\n",
       " 'fire',\n",
       " 'newcastle',\n",
       " 'boss',\n",
       " 'graeme',\n",
       " 'souness',\n",
       " 'has',\n",
       " 'reopened']"
      ]
     },
     "execution_count": 212,
     "metadata": {},
     "output_type": "execute_result"
    }
   ],
   "source": [
    "tokens_exmpl = nltk.word_tokenize(df_train_news['Text'][exmpl_index])  \n",
    "tokens_exmpl[:10]"
   ]
  },
  {
   "cell_type": "markdown",
   "metadata": {},
   "source": [
    "\n",
    "Then we are going to remove stop words, which are words that don't add much meaning to the text, such as \"the\", \"a\", \"an\", etc. "
   ]
  },
  {
   "cell_type": "code",
   "execution_count": 213,
   "metadata": {},
   "outputs": [
    {
     "data": {
      "text/plain": [
       "['bellamy',\n",
       " 'new',\n",
       " 'fire',\n",
       " 'newcastle',\n",
       " 'boss',\n",
       " 'graeme',\n",
       " 'souness',\n",
       " 'reopened',\n",
       " 'dispute',\n",
       " 'craig']"
      ]
     },
     "execution_count": 213,
     "metadata": {},
     "output_type": "execute_result"
    }
   ],
   "source": [
    "stopwords = nltk.corpus.stopwords.words('english')\n",
    "filtered_tokens = [token for token in tokens_exmpl if token not in stopwords]\n",
    "filtered_tokens[:10]"
   ]
  },
  {
   "cell_type": "markdown",
   "metadata": {},
   "source": [
    "As we can see, the stop words have been removed. Now we are going to lemmatize the words, which means reducing them to their root form. For example, \"running\" and \"ran\" would both be reduced to \"run\". This technique is chosen over stemming because from what I've read, stemming can sometimes reduce words to non-existent words and that would be bad for our model."
   ]
  },
  {
   "cell_type": "code",
   "execution_count": 214,
   "metadata": {},
   "outputs": [
    {
     "data": {
      "text/plain": [
       "['bellamy',\n",
       " 'new',\n",
       " 'fire',\n",
       " 'newcastle',\n",
       " 'bos',\n",
       " 'graeme',\n",
       " 'souness',\n",
       " 'reopened',\n",
       " 'dispute',\n",
       " 'craig']"
      ]
     },
     "execution_count": 214,
     "metadata": {},
     "output_type": "execute_result"
    }
   ],
   "source": [
    "lemmatizer = nltk.stem.WordNetLemmatizer()\n",
    "lemmatized_tokens = [lemmatizer.lemmatize(token) for token in filtered_tokens]\n",
    "lemmatized_tokens[:10]"
   ]
  },
  {
   "cell_type": "markdown",
   "metadata": {},
   "source": [
    "This process is going to be applied to all the articles in the dataset."
   ]
  },
  {
   "cell_type": "code",
   "execution_count": 215,
   "metadata": {},
   "outputs": [],
   "source": [
    "def preprocess_article(article):\n",
    "    tokens = nltk.word_tokenize(article)\n",
    "    stopwords_removed = [token for token in tokens if token not in stopwords]\n",
    "    lemmatizer = nltk.stem.WordNetLemmatizer()\n",
    "    lemmatized = [lemmatizer.lemmatize(token) for token in stopwords_removed]\n",
    "    return ' '.join(lemmatized)\n",
    "df_train_news['Text_preprocessed'] = df_train_news['Text'].apply(preprocess_article)"
   ]
  },
  {
   "cell_type": "markdown",
   "metadata": {},
   "source": [
    "Let's take a look at average word count by article using the different phases of the cleaning process."
   ]
  },
  {
   "cell_type": "code",
   "execution_count": 216,
   "metadata": {},
   "outputs": [
    {
     "data": {
      "text/plain": [
       "(0.0, 450.0)"
      ]
     },
     "execution_count": 216,
     "metadata": {},
     "output_type": "execute_result"
    },
    {
     "data": {
      "image/png": "[encoded data removed]",
      "text/plain": [
       "<Figure size 1400x600 with 1 Axes>"
      ]
     },
     "metadata": {},
     "output_type": "display_data"
    }
   ],
   "source": [
    "df_train_news['num_words_pre'] = df_train_news['Text_preprocessed'].apply(lambda x: len(x.split()))\n",
    "avg_words_no_pre = df_train_news['num_words_no_pre'].mean()\n",
    "avg_words_simple_pre = df_train_news['num_words_simple_pre'].mean()\n",
    "avg_words_pre = df_train_news['num_words_pre'].mean()\n",
    "\n",
    "data = pd.Series([avg_words_no_pre, avg_words_simple_pre, avg_words_pre], index=['No preprocessing', 'Simple preprocessing', 'Complete preprocessing'])\n",
    "colors = ['grey' if (x > min(data)) else 'red' for x in data.values]\n",
    "plt.figure(figsize=(14,6))\n",
    "fig = sns.barplot(x=data.index, y=data.values, palette=colors)\n",
    "sns.despine()\n",
    "plt.title('Average number of words by article', fontsize=14)\n",
    "plt.ylabel('')\n",
    "plt.xlabel('Preprocessing type', fontsize=12)           \n",
    "plt.tick_params(left=False, bottom=False, labelleft=False, labelbottom=True)       \n",
    "patches = fig.patches\n",
    "for patch in patches:\n",
    "    height = patch.get_height()\n",
    "    width = patch.get_width()\n",
    "    x = patch.get_x()\n",
    "    fig.text(x=x+width/2, y=height+5,s='{:.0f}'.format(height), ha='center')\n",
    "plt.ylim(0,450)"
   ]
  },
  {
   "cell_type": "markdown",
   "metadata": {},
   "source": [
    "We managed to reduce the average word count from 385 to 216. Let's take a look at the distribution of the word counts. "
   ]
  },
  {
   "cell_type": "code",
   "execution_count": 217,
   "metadata": {},
   "outputs": [
    {
     "name": "stderr",
     "output_type": "stream",
     "text": [
      "e:\\Documents\\BBC News-Classification\\venv\\lib\\site-packages\\seaborn\\axisgrid.py:118: UserWarning: The figure layout has changed to tight\n",
      "  self._figure.tight_layout(*args, **kwargs)\n"
     ]
    },
    {
     "data": {
      "text/plain": [
       "Text(5.569444444444445, 0.5, 'Frequency')"
      ]
     },
     "execution_count": 217,
     "metadata": {},
     "output_type": "execute_result"
    },
    {
     "data": {
      "text/plain": [
       "<Figure size 1400x600 with 0 Axes>"
      ]
     },
     "metadata": {},
     "output_type": "display_data"
    },
    {
     "data": {
      "image/png": "[encoded data removed]",
      "text/plain": [
       "<Figure size 500x500 with 1 Axes>"
      ]
     },
     "metadata": {},
     "output_type": "display_data"
    }
   ],
   "source": [
    "plt.figure(figsize=(14,6))      \n",
    "sns.displot(df_train_news['num_words_pre'], kind='hist', kde= True, bins=100)   \n",
    "plt.xlabel('Number of words', fontsize=12)\n",
    "plt.ylabel('Frequency', fontsize=12)"
   ]
  },
  {
   "cell_type": "markdown",
   "metadata": {},
   "source": [
    "We see a fairly skewed distribution, with most articles having between 100 and 300 words. It's a good idea to remove some outliers based in the number of words."
   ]
  },
  {
   "cell_type": "code",
   "execution_count": 218,
   "metadata": {},
   "outputs": [
    {
     "data": {
      "text/plain": [
       "Text(0.5, 1.0, 'Number of words by category')"
      ]
     },
     "execution_count": 218,
     "metadata": {},
     "output_type": "execute_result"
    },
    {
     "data": {
      "image/png": "[encoded data removed]",
      "text/plain": [
       "<Figure size 1400x600 with 2 Axes>"
      ]
     },
     "metadata": {},
     "output_type": "display_data"
    }
   ],
   "source": [
    "fig, ax = plt.subplots(1, 2, figsize=(14,6), sharey=True)     \n",
    "sns.boxplot(x='Category', y='num_words_pre', data=df_train_news, ax=ax[0])\n",
    "plt.title('Number of words by category', fontsize=14)           \n",
    "q1 = df_train_news['num_words_pre'].quantile(0.25)      \n",
    "q3 = df_train_news['num_words_pre'].quantile(0.75)  \n",
    "iqr = q3 - q1\n",
    "upper_limit = q3 + 1.5*iqr  \n",
    "lower_limit = q1 - 1.5*iqr\n",
    "df_train_cleaned = df_train_news[(df_train_news['num_words_pre'] > lower_limit) & (df_train_news['num_words_pre'] < upper_limit)]\n",
    "sns.boxplot(x='Category', y='num_words_pre', data=df_train_cleaned, ax=ax[1])\n",
    "plt.title('Number of words by category', fontsize=14)    "
   ]
  },
  {
   "cell_type": "markdown",
   "metadata": {},
   "source": [
    "The politics category has the highest average word count, followed by tech, business, entertainment and sport. However there are more articles in the tech category that have high word counts.               "
   ]
  },
  {
   "cell_type": "markdown",
   "metadata": {},
   "source": [
    "Let's take a look at the most common words in each category.   "
   ]
  },
  {
   "cell_type": "code",
   "execution_count": 219,
   "metadata": {},
   "outputs": [
    {
     "data": {
      "text/plain": [
       "said       1087\n",
       "year        603\n",
       "bn          518\n",
       "u           510\n",
       "mr          393\n",
       "company     391\n",
       "firm        372\n",
       "market      344\n",
       "would       294\n",
       "sale        277\n",
       "Name: Business, dtype: int32"
      ]
     },
     "execution_count": 219,
     "metadata": {},
     "output_type": "execute_result"
    }
   ],
   "source": [
    "tmp = (df_train_cleaned.groupby('Category')['Text_preprocessed'].apply(lambda x: x.str.split(expand=True).stack().value_counts()).unstack().fillna(0).astype(int)).T\n",
    "business = tmp['Business'].sort_values(ascending=False)[:10]    \n",
    "entertainment = tmp['Entertainment'].sort_values(ascending=False)[:10]\n",
    "politics = tmp['Politics'].sort_values(ascending=False)[:10]\n",
    "sport = tmp['Sport'].sort_values(ascending=False)[:10]\n",
    "tech = tmp['Tech'].sort_values(ascending=False)[:10]   \n",
    "business"
   ]
  },
  {
   "cell_type": "markdown",
   "metadata": {},
   "source": [
    "The word 'said' appears in almost all the categories as one of the most used in the articles, this word importance is going to be reduced using TF-IDF technique. The word 'mr' appears in the politics category, which makes sense. The word 'game' appears in the entertainment and sport categories, which also makes sense. The word 'company' appears in the business and tech categories, which also makes sense."
   ]
  },
  {
   "cell_type": "code",
   "execution_count": 220,
   "metadata": {},
   "outputs": [
    {
     "name": "stderr",
     "output_type": "stream",
     "text": [
      "C:\\Users\\cozie\\AppData\\Local\\Temp\\ipykernel_13596\\812482064.py:1: SettingWithCopyWarning: \n",
      "A value is trying to be set on a copy of a slice from a DataFrame\n",
      "\n",
      "See the caveats in the documentation: https://pandas.pydata.org/pandas-docs/stable/user_guide/indexing.html#returning-a-view-versus-a-copy\n",
      "  df_train_cleaned.drop(axis=1, columns=['num_words_no_pre', 'num_words_simple_pre', 'num_words_pre', 'Text'], inplace=True)\n"
     ]
    }
   ],
   "source": [
    "df_train_cleaned.drop(axis=1, columns=['num_words_no_pre', 'num_words_simple_pre', 'num_words_pre', 'Text'], inplace=True)"
   ]
  },
  {
   "cell_type": "code",
   "execution_count": 221,
   "metadata": {},
   "outputs": [
    {
     "name": "stderr",
     "output_type": "stream",
     "text": [
      "C:\\Users\\cozie\\AppData\\Local\\Temp\\ipykernel_13596\\4200020037.py:2: SettingWithCopyWarning: \n",
      "A value is trying to be set on a copy of a slice from a DataFrame.\n",
      "Try using .loc[row_indexer,col_indexer] = value instead\n",
      "\n",
      "See the caveats in the documentation: https://pandas.pydata.org/pandas-docs/stable/user_guide/indexing.html#returning-a-view-versus-a-copy\n",
      "  df_train_cleaned['Target'] = codes\n"
     ]
    },
    {
     "data": {
      "text/html": [
       "<div>\n",
       "<style scoped>\n",
       "    .dataframe tbody tr th:only-of-type {\n",
       "        vertical-align: middle;\n",
       "    }\n",
       "\n",
       "    .dataframe tbody tr th {\n",
       "        vertical-align: top;\n",
       "    }\n",
       "\n",
       "    .dataframe thead th {\n",
       "        text-align: right;\n",
       "    }\n",
       "</style>\n",
       "<table border=\"1\" class=\"dataframe\">\n",
       "  <thead>\n",
       "    <tr style=\"text-align: right;\">\n",
       "      <th></th>\n",
       "      <th>Category</th>\n",
       "      <th>Text_preprocessed</th>\n",
       "      <th>Target</th>\n",
       "    </tr>\n",
       "    <tr>\n",
       "      <th>ArticleId</th>\n",
       "      <th></th>\n",
       "      <th></th>\n",
       "      <th></th>\n",
       "    </tr>\n",
       "  </thead>\n",
       "  <tbody>\n",
       "    <tr>\n",
       "      <th>1833</th>\n",
       "      <td>Business</td>\n",
       "      <td>worldcom ex bos launch defence lawyer defendin...</td>\n",
       "      <td>0</td>\n",
       "    </tr>\n",
       "    <tr>\n",
       "      <th>154</th>\n",
       "      <td>Business</td>\n",
       "      <td>german business confidence slide german busine...</td>\n",
       "      <td>0</td>\n",
       "    </tr>\n",
       "    <tr>\n",
       "      <th>1101</th>\n",
       "      <td>Business</td>\n",
       "      <td>bbc poll indicates economic gloom citizen majo...</td>\n",
       "      <td>0</td>\n",
       "    </tr>\n",
       "    <tr>\n",
       "      <th>1976</th>\n",
       "      <td>Tech</td>\n",
       "      <td>lifestyle governs mobile choice faster better ...</td>\n",
       "      <td>1</td>\n",
       "    </tr>\n",
       "    <tr>\n",
       "      <th>917</th>\n",
       "      <td>Business</td>\n",
       "      <td>enron boss payout eighteen former enron direct...</td>\n",
       "      <td>0</td>\n",
       "    </tr>\n",
       "    <tr>\n",
       "      <th>...</th>\n",
       "      <td>...</td>\n",
       "      <td>...</td>\n",
       "      <td>...</td>\n",
       "    </tr>\n",
       "    <tr>\n",
       "      <th>857</th>\n",
       "      <td>Entertainment</td>\n",
       "      <td>double eviction big brother model caprice holb...</td>\n",
       "      <td>4</td>\n",
       "    </tr>\n",
       "    <tr>\n",
       "      <th>325</th>\n",
       "      <td>Entertainment</td>\n",
       "      <td>dj double act revamp chart show dj duo jk joel...</td>\n",
       "      <td>4</td>\n",
       "    </tr>\n",
       "    <tr>\n",
       "      <th>1590</th>\n",
       "      <td>Business</td>\n",
       "      <td>weak dollar hit reuters revenue medium group r...</td>\n",
       "      <td>0</td>\n",
       "    </tr>\n",
       "    <tr>\n",
       "      <th>1587</th>\n",
       "      <td>Tech</td>\n",
       "      <td>apple ipod family expands market apple expande...</td>\n",
       "      <td>1</td>\n",
       "    </tr>\n",
       "    <tr>\n",
       "      <th>538</th>\n",
       "      <td>Tech</td>\n",
       "      <td>santy worm make unwelcome visit thousand websi...</td>\n",
       "      <td>1</td>\n",
       "    </tr>\n",
       "  </tbody>\n",
       "</table>\n",
       "<p>1405 rows × 3 columns</p>\n",
       "</div>"
      ],
      "text/plain": [
       "                Category                                  Text_preprocessed  \\\n",
       "ArticleId                                                                     \n",
       "1833            Business  worldcom ex bos launch defence lawyer defendin...   \n",
       "154             Business  german business confidence slide german busine...   \n",
       "1101            Business  bbc poll indicates economic gloom citizen majo...   \n",
       "1976                Tech  lifestyle governs mobile choice faster better ...   \n",
       "917             Business  enron boss payout eighteen former enron direct...   \n",
       "...                  ...                                                ...   \n",
       "857        Entertainment  double eviction big brother model caprice holb...   \n",
       "325        Entertainment  dj double act revamp chart show dj duo jk joel...   \n",
       "1590            Business  weak dollar hit reuters revenue medium group r...   \n",
       "1587                Tech  apple ipod family expands market apple expande...   \n",
       "538                 Tech  santy worm make unwelcome visit thousand websi...   \n",
       "\n",
       "           Target  \n",
       "ArticleId          \n",
       "1833            0  \n",
       "154             0  \n",
       "1101            0  \n",
       "1976            1  \n",
       "917             0  \n",
       "...           ...  \n",
       "857             4  \n",
       "325             4  \n",
       "1590            0  \n",
       "1587            1  \n",
       "538             1  \n",
       "\n",
       "[1405 rows x 3 columns]"
      ]
     },
     "execution_count": 221,
     "metadata": {},
     "output_type": "execute_result"
    }
   ],
   "source": [
    "codes, uniques = pd.factorize(df_train_cleaned['Category'])\n",
    "df_train_cleaned['Target'] = codes\n",
    "df_train_cleaned    "
   ]
  },
  {
   "cell_type": "markdown",
   "metadata": {},
   "source": [
    "## Splitting the data               "
   ]
  },
  {
   "cell_type": "markdown",
   "metadata": {},
   "source": [
    "It's not necessary to split the data into train and validation sets because we are going to use unsupervised learning, however one can make a split to get an idea of how well the model is going to perforrm before subitting it to Kaggle, also to make a better comparison with the supervised learning model."
   ]
  },
  {
   "cell_type": "code",
   "execution_count": 222,
   "metadata": {},
   "outputs": [],
   "source": [
    "df_train, df_val = train_test_split(df_train_cleaned, test_size=0.2, random_state=random_seed, stratify=df_train_cleaned['Target'])"
   ]
  },
  {
   "cell_type": "markdown",
   "metadata": {},
   "source": [
    "### TF-IDF           "
   ]
  },
  {
   "cell_type": "markdown",
   "metadata": {},
   "source": [
    "As mentioned before we are going to use TF-IDF to obtained the importance of each term in our dataset of articles, also this will allow the model to recieve a matrix of numbers instead of words.\n",
    "\n",
    "The TF-IDF is a measure of how important a word is to a document in a collection of documents. The importance increases proportionally to the number of times a word appears in the document but is reduced by the number of times the word appears in other documents of the collection, this is to control for the fact that some words appear more frequently in general and are less informative in the context of a particular document.  \n",
    "\n",
    "The TF-IDF is composed of two terms: the first computes the Term Frequency(TF) which is the number of times a word appears in the specific document, divided by the total number of words in that document.\n",
    "\n",
    "$tf(t,d) = \\frac{f_{t,d}}{\\sum_{t\\prime{}\\in d}f_{t\\prime{},d}}$\n",
    "\n",
    "where $f_{t,d}$ is the number of times the term $t$ appears in the document $d$.\n",
    "\n",
    " The second term is the Inverse Document Frequency(IDF), which is computed as the logarithm of the number of the documents in the collection divided by the number of documents where the specific term appears.\n",
    "\n",
    "$idf(t,D) = \\log{\\frac{N}{|\\{d\\in D:t\\in d\\}|}}$\n",
    "\n",
    "where $N$ is the total number of documents in the collection $D$ and $|\\{d\\in D:t\\in d\\}|$ is the number of documents where the term $t$ appears.          \n",
    "\n",
    "The TF-IDF is the product of these two terms:\n",
    "\n",
    "$tfidf(t,d,D) = tf(t,d) \\times idf(t,D)$"
   ]
  },
  {
   "cell_type": "markdown",
   "metadata": {},
   "source": [
    "An example of the TF-IDF for a document in a collection of documents is shown below:    "
   ]
  },
  {
   "cell_type": "code",
   "execution_count": 223,
   "metadata": {},
   "outputs": [
    {
     "data": {
      "text/html": [
       "<div>\n",
       "<style scoped>\n",
       "    .dataframe tbody tr th:only-of-type {\n",
       "        vertical-align: middle;\n",
       "    }\n",
       "\n",
       "    .dataframe tbody tr th {\n",
       "        vertical-align: top;\n",
       "    }\n",
       "\n",
       "    .dataframe thead th {\n",
       "        text-align: right;\n",
       "    }\n",
       "</style>\n",
       "<table border=\"1\" class=\"dataframe\">\n",
       "  <thead>\n",
       "    <tr style=\"text-align: right;\">\n",
       "      <th></th>\n",
       "      <th>account</th>\n",
       "      <th>accountant</th>\n",
       "      <th>accused</th>\n",
       "      <th>acting</th>\n",
       "      <th>actor</th>\n",
       "      <th>actress</th>\n",
       "      <th>administrator</th>\n",
       "      <th>adornment</th>\n",
       "      <th>adrian</th>\n",
       "      <th>advice</th>\n",
       "      <th>...</th>\n",
       "      <th>whatsonstage</th>\n",
       "      <th>whether</th>\n",
       "      <th>winner</th>\n",
       "      <th>without</th>\n",
       "      <th>wonky</th>\n",
       "      <th>worked</th>\n",
       "      <th>would</th>\n",
       "      <th>writing</th>\n",
       "      <th>wrong</th>\n",
       "      <th>year</th>\n",
       "    </tr>\n",
       "  </thead>\n",
       "  <tbody>\n",
       "    <tr>\n",
       "      <th>0</th>\n",
       "      <td>0.000000</td>\n",
       "      <td>0.000000</td>\n",
       "      <td>0.000000</td>\n",
       "      <td>0.000000</td>\n",
       "      <td>0.000000</td>\n",
       "      <td>0.000000</td>\n",
       "      <td>0.000000</td>\n",
       "      <td>0.000000</td>\n",
       "      <td>0.052863</td>\n",
       "      <td>0.000000</td>\n",
       "      <td>...</td>\n",
       "      <td>0.000000</td>\n",
       "      <td>0.000000</td>\n",
       "      <td>0.000000</td>\n",
       "      <td>0.000000</td>\n",
       "      <td>0.000000</td>\n",
       "      <td>0.000000</td>\n",
       "      <td>0.035403</td>\n",
       "      <td>0.000000</td>\n",
       "      <td>0.000000</td>\n",
       "      <td>0.000000</td>\n",
       "    </tr>\n",
       "    <tr>\n",
       "      <th>1</th>\n",
       "      <td>0.000000</td>\n",
       "      <td>0.000000</td>\n",
       "      <td>0.000000</td>\n",
       "      <td>0.000000</td>\n",
       "      <td>0.000000</td>\n",
       "      <td>0.000000</td>\n",
       "      <td>0.000000</td>\n",
       "      <td>0.076617</td>\n",
       "      <td>0.000000</td>\n",
       "      <td>0.000000</td>\n",
       "      <td>...</td>\n",
       "      <td>0.000000</td>\n",
       "      <td>0.000000</td>\n",
       "      <td>0.000000</td>\n",
       "      <td>0.000000</td>\n",
       "      <td>0.076617</td>\n",
       "      <td>0.076617</td>\n",
       "      <td>0.000000</td>\n",
       "      <td>0.000000</td>\n",
       "      <td>0.000000</td>\n",
       "      <td>0.123629</td>\n",
       "    </tr>\n",
       "    <tr>\n",
       "      <th>2</th>\n",
       "      <td>0.000000</td>\n",
       "      <td>0.000000</td>\n",
       "      <td>0.000000</td>\n",
       "      <td>0.000000</td>\n",
       "      <td>0.195408</td>\n",
       "      <td>0.146556</td>\n",
       "      <td>0.000000</td>\n",
       "      <td>0.000000</td>\n",
       "      <td>0.000000</td>\n",
       "      <td>0.000000</td>\n",
       "      <td>...</td>\n",
       "      <td>0.048852</td>\n",
       "      <td>0.000000</td>\n",
       "      <td>0.048852</td>\n",
       "      <td>0.000000</td>\n",
       "      <td>0.000000</td>\n",
       "      <td>0.000000</td>\n",
       "      <td>0.000000</td>\n",
       "      <td>0.000000</td>\n",
       "      <td>0.000000</td>\n",
       "      <td>0.000000</td>\n",
       "    </tr>\n",
       "    <tr>\n",
       "      <th>3</th>\n",
       "      <td>0.000000</td>\n",
       "      <td>0.000000</td>\n",
       "      <td>0.041339</td>\n",
       "      <td>0.041339</td>\n",
       "      <td>0.000000</td>\n",
       "      <td>0.000000</td>\n",
       "      <td>0.000000</td>\n",
       "      <td>0.000000</td>\n",
       "      <td>0.000000</td>\n",
       "      <td>0.041339</td>\n",
       "      <td>...</td>\n",
       "      <td>0.000000</td>\n",
       "      <td>0.082677</td>\n",
       "      <td>0.000000</td>\n",
       "      <td>0.082677</td>\n",
       "      <td>0.000000</td>\n",
       "      <td>0.000000</td>\n",
       "      <td>0.166109</td>\n",
       "      <td>0.041339</td>\n",
       "      <td>0.041339</td>\n",
       "      <td>0.066703</td>\n",
       "    </tr>\n",
       "    <tr>\n",
       "      <th>4</th>\n",
       "      <td>0.098379</td>\n",
       "      <td>0.049189</td>\n",
       "      <td>0.000000</td>\n",
       "      <td>0.000000</td>\n",
       "      <td>0.000000</td>\n",
       "      <td>0.000000</td>\n",
       "      <td>0.049189</td>\n",
       "      <td>0.000000</td>\n",
       "      <td>0.000000</td>\n",
       "      <td>0.000000</td>\n",
       "      <td>...</td>\n",
       "      <td>0.000000</td>\n",
       "      <td>0.000000</td>\n",
       "      <td>0.000000</td>\n",
       "      <td>0.000000</td>\n",
       "      <td>0.000000</td>\n",
       "      <td>0.000000</td>\n",
       "      <td>0.032943</td>\n",
       "      <td>0.000000</td>\n",
       "      <td>0.000000</td>\n",
       "      <td>0.000000</td>\n",
       "    </tr>\n",
       "  </tbody>\n",
       "</table>\n",
       "<p>5 rows × 596 columns</p>\n",
       "</div>"
      ],
      "text/plain": [
       "    account  accountant   accused    acting     actor   actress  \\\n",
       "0  0.000000    0.000000  0.000000  0.000000  0.000000  0.000000   \n",
       "1  0.000000    0.000000  0.000000  0.000000  0.000000  0.000000   \n",
       "2  0.000000    0.000000  0.000000  0.000000  0.195408  0.146556   \n",
       "3  0.000000    0.000000  0.041339  0.041339  0.000000  0.000000   \n",
       "4  0.098379    0.049189  0.000000  0.000000  0.000000  0.000000   \n",
       "\n",
       "   administrator  adornment    adrian    advice  ...  whatsonstage   whether  \\\n",
       "0       0.000000   0.000000  0.052863  0.000000  ...      0.000000  0.000000   \n",
       "1       0.000000   0.076617  0.000000  0.000000  ...      0.000000  0.000000   \n",
       "2       0.000000   0.000000  0.000000  0.000000  ...      0.048852  0.000000   \n",
       "3       0.000000   0.000000  0.000000  0.041339  ...      0.000000  0.082677   \n",
       "4       0.049189   0.000000  0.000000  0.000000  ...      0.000000  0.000000   \n",
       "\n",
       "     winner   without     wonky    worked     would   writing     wrong  \\\n",
       "0  0.000000  0.000000  0.000000  0.000000  0.035403  0.000000  0.000000   \n",
       "1  0.000000  0.000000  0.076617  0.076617  0.000000  0.000000  0.000000   \n",
       "2  0.048852  0.000000  0.000000  0.000000  0.000000  0.000000  0.000000   \n",
       "3  0.000000  0.082677  0.000000  0.000000  0.166109  0.041339  0.041339   \n",
       "4  0.000000  0.000000  0.000000  0.000000  0.032943  0.000000  0.000000   \n",
       "\n",
       "       year  \n",
       "0  0.000000  \n",
       "1  0.123629  \n",
       "2  0.000000  \n",
       "3  0.066703  \n",
       "4  0.000000  \n",
       "\n",
       "[5 rows x 596 columns]"
      ]
     },
     "execution_count": 223,
     "metadata": {},
     "output_type": "execute_result"
    }
   ],
   "source": [
    "exmpl = df_train[:5]\n",
    "tfidf_vectorizer = TfidfVectorizer()              \n",
    "tfidf_train = tfidf_vectorizer.fit_transform(exmpl['Text_preprocessed'])\n",
    "pd.DataFrame(tfidf_train.toarray(), columns=tfidf_vectorizer.get_feature_names_out())   "
   ]
  },
  {
   "cell_type": "code",
   "execution_count": 224,
   "metadata": {},
   "outputs": [],
   "source": [
    "nmf = NMF(n_components=5, random_state=random_seed)\n",
    "tfidf = TfidfVectorizer(sublinear_tf=True,\n",
    "                            max_df=0.95,\n",
    "                            min_df=round(len(df_train)*0.01),\n",
    "                            stop_words=\"english\")\n",
    "tfidf.fit(df_train['Text_preprocessed'])\n",
    "X_train = tfidf.transform(df_train['Text_preprocessed'])     \n",
    "X_train_nmf = nmf.fit_transform(X_train)         "
   ]
  },
  {
   "cell_type": "code",
   "execution_count": 225,
   "metadata": {},
   "outputs": [
    {
     "name": "stdout",
     "output_type": "stream",
     "text": [
      "Best permutation: {0: 0, 4: 1, 2: 2, 1: 3, 3: 4}\n",
      "Accuracy score: 0.9448398576512456\n"
     ]
    }
   ],
   "source": [
    "def label_permutation(y_true,y_pred):\n",
    "    y_true_ = np.array(y_true).reshape(-1)\n",
    "    uniq_labels = np.unique(y_true_)\n",
    "    perm = permutations(range(len(uniq_labels)))\n",
    "    best_perm, best_acc = None, 0\n",
    "    for p in perm:\n",
    "        perm_true_label_map = {label: int_label for label, int_label in zip(uniq_labels, p)}\n",
    "        perm_true_labels = np.array([perm_true_label_map[label] for label in y_true_])\n",
    "        acc = accuracy_score(perm_true_labels, y_pred)\n",
    "        if acc > best_acc:\n",
    "            best_perm = {num: label for num, label in zip(p, uniq_labels)}\n",
    "            best_acc = acc\n",
    "    return best_perm, best_acc\n",
    "\n",
    "\n",
    "\n",
    "def predict(y_pred, best_permutation):\n",
    "    y_pred_perm = [best_permutation[int_label] for int_label in y_pred]\n",
    "    return y_pred_perm\n",
    "\n",
    "y_train_pred_noperm = np.argmax(X_train_nmf, axis=1)\n",
    "best_permutation, best_score= label_permutation(df_train['Target'], y_train_pred_noperm)\n",
    "y_train_pred = predict(y_train_pred_noperm, best_permutation)\n",
    "print (f'Best permutation: {best_permutation}')\n",
    "print (f'Accuracy score: {best_score}') "
   ]
  },
  {
   "cell_type": "code",
   "execution_count": 226,
   "metadata": {},
   "outputs": [
    {
     "data": {
      "text/plain": [
       "<Axes: >"
      ]
     },
     "execution_count": 226,
     "metadata": {},
     "output_type": "execute_result"
    },
    {
     "data": {
      "image/png": "[encoded data removed]",
      "text/plain": [
       "<Figure size 640x480 with 1 Axes>"
      ]
     },
     "metadata": {},
     "output_type": "display_data"
    }
   ],
   "source": [
    "sns.heatmap(confusion_matrix(df_train['Target'], y_train_pred), annot=True, fmt='d', cmap='Blues', cbar=False)"
   ]
  },
  {
   "cell_type": "code",
   "execution_count": 227,
   "metadata": {},
   "outputs": [
    {
     "name": "stdout",
     "output_type": "stream",
     "text": [
      "Accuracy in validation set:  0.9395017793594306\n"
     ]
    },
    {
     "data": {
      "text/plain": [
       "<Axes: >"
      ]
     },
     "execution_count": 227,
     "metadata": {},
     "output_type": "execute_result"
    },
    {
     "data": {
      "image/png": "[encoded data removed]",
      "text/plain": [
       "<Figure size 640x480 with 1 Axes>"
      ]
     },
     "metadata": {},
     "output_type": "display_data"
    }
   ],
   "source": [
    "X_val = tfidf.transform(df_val['Text_preprocessed'])\n",
    "X_val_nmf = nmf.transform(X_val)   \n",
    "y_val_pred_noperm = np.argmax(X_val_nmf, axis=1) \n",
    "y_val_pred = predict(y_val_pred_noperm, best_permutation)   \n",
    "print('Accuracy in validation set: ',accuracy_score(df_val['Target'], y_val_pred))\n",
    "sns.heatmap(confusion_matrix(df_val['Target'], y_val_pred), annot=True, fmt='d', cmap='Blues', cbar=False)"
   ]
  },
  {
   "cell_type": "code",
   "execution_count": 228,
   "metadata": {},
   "outputs": [
    {
     "data": {
      "text/html": [
       "<div>\n",
       "<style scoped>\n",
       "    .dataframe tbody tr th:only-of-type {\n",
       "        vertical-align: middle;\n",
       "    }\n",
       "\n",
       "    .dataframe tbody tr th {\n",
       "        vertical-align: top;\n",
       "    }\n",
       "\n",
       "    .dataframe thead th {\n",
       "        text-align: right;\n",
       "    }\n",
       "</style>\n",
       "<table border=\"1\" class=\"dataframe\">\n",
       "  <thead>\n",
       "    <tr style=\"text-align: right;\">\n",
       "      <th></th>\n",
       "      <th>ArticleId</th>\n",
       "      <th>Text_preprocessed</th>\n",
       "    </tr>\n",
       "  </thead>\n",
       "  <tbody>\n",
       "    <tr>\n",
       "      <th>0</th>\n",
       "      <td>1018</td>\n",
       "      <td>qpr keeper day head preston queen park ranger ...</td>\n",
       "    </tr>\n",
       "    <tr>\n",
       "      <th>1</th>\n",
       "      <td>1319</td>\n",
       "      <td>software watching work software monitor every ...</td>\n",
       "    </tr>\n",
       "    <tr>\n",
       "      <th>2</th>\n",
       "      <td>1138</td>\n",
       "      <td>arcy injury add ireland woe gordon arcy ruled ...</td>\n",
       "    </tr>\n",
       "    <tr>\n",
       "      <th>3</th>\n",
       "      <td>459</td>\n",
       "      <td>india reliance family feud heat ongoing public...</td>\n",
       "    </tr>\n",
       "    <tr>\n",
       "      <th>4</th>\n",
       "      <td>1020</td>\n",
       "      <td>boro suffer morrison injury blow middlesbrough...</td>\n",
       "    </tr>\n",
       "    <tr>\n",
       "      <th>...</th>\n",
       "      <td>...</td>\n",
       "      <td>...</td>\n",
       "    </tr>\n",
       "    <tr>\n",
       "      <th>730</th>\n",
       "      <td>1923</td>\n",
       "      <td>eu probe alitalia state aid european commissio...</td>\n",
       "    </tr>\n",
       "    <tr>\n",
       "      <th>731</th>\n",
       "      <td>373</td>\n",
       "      <td>u play grammy award show irish rock band u pla...</td>\n",
       "    </tr>\n",
       "    <tr>\n",
       "      <th>732</th>\n",
       "      <td>1704</td>\n",
       "      <td>sport betting rule spotlight group mp peer cal...</td>\n",
       "    </tr>\n",
       "    <tr>\n",
       "      <th>733</th>\n",
       "      <td>206</td>\n",
       "      <td>alfa romeo get gm engine fiat stop making six ...</td>\n",
       "    </tr>\n",
       "    <tr>\n",
       "      <th>734</th>\n",
       "      <td>471</td>\n",
       "      <td>citizenship event touted citizenship ceremony ...</td>\n",
       "    </tr>\n",
       "  </tbody>\n",
       "</table>\n",
       "<p>735 rows × 2 columns</p>\n",
       "</div>"
      ],
      "text/plain": [
       "     ArticleId                                  Text_preprocessed\n",
       "0         1018  qpr keeper day head preston queen park ranger ...\n",
       "1         1319  software watching work software monitor every ...\n",
       "2         1138  arcy injury add ireland woe gordon arcy ruled ...\n",
       "3          459  india reliance family feud heat ongoing public...\n",
       "4         1020  boro suffer morrison injury blow middlesbrough...\n",
       "..         ...                                                ...\n",
       "730       1923  eu probe alitalia state aid european commissio...\n",
       "731        373  u play grammy award show irish rock band u pla...\n",
       "732       1704  sport betting rule spotlight group mp peer cal...\n",
       "733        206  alfa romeo get gm engine fiat stop making six ...\n",
       "734        471  citizenship event touted citizenship ceremony ...\n",
       "\n",
       "[735 rows x 2 columns]"
      ]
     },
     "execution_count": 228,
     "metadata": {},
     "output_type": "execute_result"
    }
   ],
   "source": [
    "df_test_news = pd.read_csv('data\\BBC News Test.csv')\n",
    "df_test_news['Text'] = df_test_news['Text'].apply(lambda x: re.sub(\"[^a-zA-Z]\", ' ',x))\n",
    "df_test_news['Text_preprocessed'] = df_test_news['Text'].apply(preprocess_article)\n",
    "df_test_news.drop(axis=1, columns=['Text'], inplace=True)\n",
    "df_test_news\n"
   ]
  },
  {
   "cell_type": "code",
   "execution_count": 229,
   "metadata": {},
   "outputs": [],
   "source": [
    "X_test = tfidf.transform(df_test_news['Text_preprocessed'])     \n",
    "X_test_nmf = nmf.transform(X_test)  \n",
    "y_test_pred_noperm = np.argmax(X_test_nmf, axis=1) \n",
    "y_test_pred = predict(y_test_pred_noperm, best_permutation) \n",
    "y_test_pred = pd.Series(y_test_pred, name='Category')\n",
    "mapper = {i:label for i,label in enumerate(uniques.str.lower())}\n",
    "test_preds = pd.DataFrame(columns=[\"ArticleId\", \"Category\"])\n",
    "test_preds[\"ArticleId\"] = df_test_news.ArticleId\n",
    "test_preds[\"Category\"] = y_test_pred.map(mapper)\n",
    "test_preds.to_csv('data\\submission.csv', index=False)"
   ]
  },
  {
   "cell_type": "code",
   "execution_count": 230,
   "metadata": {},
   "outputs": [
    {
     "name": "stdout",
     "output_type": "stream",
     "text": [
      "Successfully submitted to BBC News Classification\n"
     ]
    },
    {
     "name": "stderr",
     "output_type": "stream",
     "text": [
      "\n",
      "  0%|          | 0.00/9.86k [00:00<?, ?B/s]\n",
      "100%|██████████| 9.86k/9.86k [00:00<00:00, 96.3kB/s]\n",
      "100%|██████████| 9.86k/9.86k [00:00<00:00, 23.9kB/s]\n"
     ]
    }
   ],
   "source": [
    "!kaggle competitions submit -c learn-ai-bbc -f data\\submission.csv -m Submission"
   ]
  },
  {
   "cell_type": "code",
   "execution_count": null,
   "metadata": {},
   "outputs": [],
   "source": []
  }
 ],
 "metadata": {
  "kernelspec": {
   "display_name": "venv",
   "language": "python",
   "name": "python3"
  },
  "language_info": {
   "codemirror_mode": {
    "name": "ipython",
    "version": 3
   },
   "file_extension": ".py",
   "mimetype": "text/x-python",
   "name": "python",
   "nbconvert_exporter": "python",
   "pygments_lexer": "ipython3",
   "version": "3.9.13"
  },
  "orig_nbformat": 4
 },
 "nbformat": 4,
 "nbformat_minor": 2
}
